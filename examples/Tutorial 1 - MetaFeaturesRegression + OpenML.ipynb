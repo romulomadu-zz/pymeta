{
 "cells": [
  {
   "cell_type": "markdown",
   "metadata": {},
   "source": [
    "# Tutorial 1 - Using MetaRegressionFeatures + OpenML API <a class=\"tocSkip\">\n",
    " \n",
    "The objective of this tutorial is to show how to download datasets from OpenML API and calculate his meta features using `MetaRegressionFeatures` class from PyMeta."
   ]
  },
  {
   "cell_type": "markdown",
   "metadata": {},
   "source": [
    "## Installing Python's OpenML API"
   ]
  },
  {
   "cell_type": "markdown",
   "metadata": {
    "ExecuteTime": {
     "end_time": "2019-09-05T14:05:02.313074Z",
     "start_time": "2019-09-05T14:05:02.303240Z"
    }
   },
   "source": [
    "To use OpenML API you need to install it using pip:\n",
    "\n",
    "```pip install openml```\n",
    "\n",
    "Then you need to sign up on [OpenML site](https://www.openml.org/) to get your API key for authentication."
   ]
  },
  {
   "cell_type": "markdown",
   "metadata": {},
   "source": [
    "## Downloading dataset from OpenML API\n",
    "\n",
    "First we need to import `openml` package and set the API key."
   ]
  },
  {
   "cell_type": "code",
   "execution_count": 1,
   "metadata": {
    "ExecuteTime": {
     "end_time": "2019-09-11T00:43:11.017460Z",
     "start_time": "2019-09-11T00:43:08.017299Z"
    }
   },
   "outputs": [],
   "source": [
    "import openml\n",
    "\n",
    "# you must config you api key\n",
    "openml.config.apikey = \"your api key goes here\""
   ]
  },
  {
   "cell_type": "markdown",
   "metadata": {},
   "source": [
    "After setting API key we can download a dataset, keep in mind that dataset is referenced are by a ID integer. This ID is the endpoint of the dataset page at OpenML.\n",
    "\n",
    "For the Boston house-price dataset, for example, the endpoint is 531 as you can see on page url:\n",
    "\n",
    "https://www.openml.org/d/531\n",
    "\n",
    "Let's download this dataset and see summary information about it:"
   ]
  },
  {
   "cell_type": "code",
   "execution_count": 2,
   "metadata": {
    "ExecuteTime": {
     "end_time": "2019-09-11T00:43:11.062785Z",
     "start_time": "2019-09-11T00:43:11.022228Z"
    }
   },
   "outputs": [
    {
     "name": "stdout",
     "output_type": "stream",
     "text": [
      "This is dataset 'boston', the target feature is 'MEDV'\n",
      "URL: https://www.openml.org/data/v1/download/52643/boston.arff\n",
      "**Author**:   \n",
      "**Source**: Unknown - Date unknown  \n",
      "**Please cite**:   \n",
      "\n",
      "The Boston house-price data of Harrison, D. and Rubinfeld, D.L. 'Hedonic\n",
      "prices and the demand for clean air', J. Environ. Economics & Management,\n",
      "vol.5, 81-102, 1978.   Used in Belsley, Kuh & Welsch, 'Regression diagnostics\n",
      "...', Wiley, 1980.   N.B. Various transformations are used in the table on\n",
      "pages 244-261 of the latter.\n",
      "Variables in order:\n",
      "CRIM     per capita crime rate by town\n",
      "ZN       proportion of residential land zoned for lots over 25,000 sq.ft.\n",
      "INDUS    proportion of non-retail business acres per town\n",
      "CHAS     Charles River dummy variable (= 1 if tract bounds river; 0 otherwise)\n",
      "NOX      nitric oxides concentration (parts per 10 million)\n",
      "RM       average number of rooms per dwelling\n",
      "AGE      proportion of owner-occupied units built prior to 1940\n",
      "DIS      weighted distances to five Boston employment centres\n",
      "RAD      index of accessibility to radial highways\n",
      "TAX      full-value property-tax rate per $10,000\n",
      "PTRATIO  pupil-teacher ratio by town\n",
      "B        1000(Bk - 0.63)^2 where Bk is the proportion of blacks by town\n",
      "LSTAT    % lower status of the population\n",
      "MEDV     Median value of owner-occupied homes in $1000's\n",
      "\n",
      "\n",
      "Information about the dataset\n",
      "CLASSTYPE: numeric\n",
      "CLASSINDEX: last\n"
     ]
    }
   ],
   "source": [
    "# This is done based on the dataset ID.\n",
    "dataset = openml.datasets.get_dataset(531)\n",
    "\n",
    "# Print a summary\n",
    "print(\"This is dataset '%s', the target feature is '%s'\" %\n",
    "      (dataset.name, dataset.default_target_attribute))\n",
    "print(\"URL: %s\" % dataset.url)\n",
    "print(dataset.description)"
   ]
  },
  {
   "cell_type": "markdown",
   "metadata": {},
   "source": [
    "For this task, we will consider `MEDV` as the target columns passing it to the function get data and retrieving array of features, target, besides categorical columns mask and features names."
   ]
  },
  {
   "cell_type": "code",
   "execution_count": 3,
   "metadata": {
    "ExecuteTime": {
     "end_time": "2019-09-11T00:43:11.089337Z",
     "start_time": "2019-09-11T00:43:11.067036Z"
    }
   },
   "outputs": [],
   "source": [
    "X, y, categorical_columns, columns_names = dataset.get_data('MEDV')"
   ]
  },
  {
   "cell_type": "code",
   "execution_count": 4,
   "metadata": {
    "ExecuteTime": {
     "end_time": "2019-09-11T00:43:11.141990Z",
     "start_time": "2019-09-11T00:43:11.096455Z"
    }
   },
   "outputs": [],
   "source": [
    "import numpy"
   ]
  },
  {
   "cell_type": "code",
   "execution_count": 5,
   "metadata": {
    "ExecuteTime": {
     "end_time": "2019-09-11T00:43:11.224624Z",
     "start_time": "2019-09-11T00:43:11.156051Z"
    }
   },
   "outputs": [
    {
     "data": {
      "text/html": [
       "<div>\n",
       "<style scoped>\n",
       "    .dataframe tbody tr th:only-of-type {\n",
       "        vertical-align: middle;\n",
       "    }\n",
       "\n",
       "    .dataframe tbody tr th {\n",
       "        vertical-align: top;\n",
       "    }\n",
       "\n",
       "    .dataframe thead th {\n",
       "        text-align: right;\n",
       "    }\n",
       "</style>\n",
       "<table border=\"1\" class=\"dataframe\">\n",
       "  <thead>\n",
       "    <tr style=\"text-align: right;\">\n",
       "      <th></th>\n",
       "      <th>CRIM</th>\n",
       "      <th>ZN</th>\n",
       "      <th>INDUS</th>\n",
       "      <th>CHAS</th>\n",
       "      <th>NOX</th>\n",
       "      <th>RM</th>\n",
       "      <th>AGE</th>\n",
       "      <th>DIS</th>\n",
       "      <th>RAD</th>\n",
       "      <th>TAX</th>\n",
       "      <th>PTRATIO</th>\n",
       "      <th>B</th>\n",
       "      <th>LSTAT</th>\n",
       "    </tr>\n",
       "  </thead>\n",
       "  <tbody>\n",
       "    <tr>\n",
       "      <th>0</th>\n",
       "      <td>0.00632</td>\n",
       "      <td>18.0</td>\n",
       "      <td>2.31</td>\n",
       "      <td>0</td>\n",
       "      <td>0.538</td>\n",
       "      <td>6.575</td>\n",
       "      <td>65.2</td>\n",
       "      <td>4.0900</td>\n",
       "      <td>1</td>\n",
       "      <td>296.0</td>\n",
       "      <td>15.3</td>\n",
       "      <td>396.90</td>\n",
       "      <td>4.98</td>\n",
       "    </tr>\n",
       "    <tr>\n",
       "      <th>1</th>\n",
       "      <td>0.02731</td>\n",
       "      <td>0.0</td>\n",
       "      <td>7.07</td>\n",
       "      <td>0</td>\n",
       "      <td>0.469</td>\n",
       "      <td>6.421</td>\n",
       "      <td>78.9</td>\n",
       "      <td>4.9671</td>\n",
       "      <td>2</td>\n",
       "      <td>242.0</td>\n",
       "      <td>17.8</td>\n",
       "      <td>396.90</td>\n",
       "      <td>9.14</td>\n",
       "    </tr>\n",
       "    <tr>\n",
       "      <th>2</th>\n",
       "      <td>0.02729</td>\n",
       "      <td>0.0</td>\n",
       "      <td>7.07</td>\n",
       "      <td>0</td>\n",
       "      <td>0.469</td>\n",
       "      <td>7.185</td>\n",
       "      <td>61.1</td>\n",
       "      <td>4.9671</td>\n",
       "      <td>2</td>\n",
       "      <td>242.0</td>\n",
       "      <td>17.8</td>\n",
       "      <td>392.83</td>\n",
       "      <td>4.03</td>\n",
       "    </tr>\n",
       "    <tr>\n",
       "      <th>3</th>\n",
       "      <td>0.03237</td>\n",
       "      <td>0.0</td>\n",
       "      <td>2.18</td>\n",
       "      <td>0</td>\n",
       "      <td>0.458</td>\n",
       "      <td>6.998</td>\n",
       "      <td>45.8</td>\n",
       "      <td>6.0622</td>\n",
       "      <td>3</td>\n",
       "      <td>222.0</td>\n",
       "      <td>18.7</td>\n",
       "      <td>394.63</td>\n",
       "      <td>2.94</td>\n",
       "    </tr>\n",
       "    <tr>\n",
       "      <th>4</th>\n",
       "      <td>0.06905</td>\n",
       "      <td>0.0</td>\n",
       "      <td>2.18</td>\n",
       "      <td>0</td>\n",
       "      <td>0.458</td>\n",
       "      <td>7.147</td>\n",
       "      <td>54.2</td>\n",
       "      <td>6.0622</td>\n",
       "      <td>3</td>\n",
       "      <td>222.0</td>\n",
       "      <td>18.7</td>\n",
       "      <td>396.90</td>\n",
       "      <td>5.33</td>\n",
       "    </tr>\n",
       "  </tbody>\n",
       "</table>\n",
       "</div>"
      ],
      "text/plain": [
       "      CRIM    ZN  INDUS CHAS    NOX     RM   AGE     DIS RAD    TAX  PTRATIO  \\\n",
       "0  0.00632  18.0   2.31    0  0.538  6.575  65.2  4.0900   1  296.0     15.3   \n",
       "1  0.02731   0.0   7.07    0  0.469  6.421  78.9  4.9671   2  242.0     17.8   \n",
       "2  0.02729   0.0   7.07    0  0.469  7.185  61.1  4.9671   2  242.0     17.8   \n",
       "3  0.03237   0.0   2.18    0  0.458  6.998  45.8  6.0622   3  222.0     18.7   \n",
       "4  0.06905   0.0   2.18    0  0.458  7.147  54.2  6.0622   3  222.0     18.7   \n",
       "\n",
       "        B  LSTAT  \n",
       "0  396.90   4.98  \n",
       "1  396.90   9.14  \n",
       "2  392.83   4.03  \n",
       "3  394.63   2.94  \n",
       "4  396.90   5.33  "
      ]
     },
     "execution_count": 5,
     "metadata": {},
     "output_type": "execute_result"
    }
   ],
   "source": [
    "# view of first five samples of features dataframe\n",
    "X.head()"
   ]
  },
  {
   "cell_type": "code",
   "execution_count": 12,
   "metadata": {
    "ExecuteTime": {
     "end_time": "2019-09-13T09:00:56.169107Z",
     "start_time": "2019-09-13T09:00:55.963428Z"
    }
   },
   "outputs": [
    {
     "data": {
      "text/plain": [
       "0    24.0\n",
       "1    21.6\n",
       "2    34.7\n",
       "3    33.4\n",
       "4    36.2\n",
       "Name: MEDV, dtype: float64"
      ]
     },
     "execution_count": 12,
     "metadata": {},
     "output_type": "execute_result"
    }
   ],
   "source": [
    "# view of first five output target\n",
    "y.head()"
   ]
  },
  {
   "cell_type": "code",
   "execution_count": 7,
   "metadata": {
    "ExecuteTime": {
     "end_time": "2019-09-11T00:43:11.274221Z",
     "start_time": "2019-09-11T00:43:11.241821Z"
    }
   },
   "outputs": [
    {
     "data": {
      "text/html": [
       "<div>\n",
       "<style scoped>\n",
       "    .dataframe tbody tr th:only-of-type {\n",
       "        vertical-align: middle;\n",
       "    }\n",
       "\n",
       "    .dataframe tbody tr th {\n",
       "        vertical-align: top;\n",
       "    }\n",
       "\n",
       "    .dataframe thead th {\n",
       "        text-align: right;\n",
       "    }\n",
       "</style>\n",
       "<table border=\"1\" class=\"dataframe\">\n",
       "  <thead>\n",
       "    <tr style=\"text-align: right;\">\n",
       "      <th></th>\n",
       "      <th>CHAS</th>\n",
       "      <th>RAD</th>\n",
       "    </tr>\n",
       "  </thead>\n",
       "  <tbody>\n",
       "    <tr>\n",
       "      <th>0</th>\n",
       "      <td>0</td>\n",
       "      <td>1</td>\n",
       "    </tr>\n",
       "    <tr>\n",
       "      <th>1</th>\n",
       "      <td>0</td>\n",
       "      <td>2</td>\n",
       "    </tr>\n",
       "    <tr>\n",
       "      <th>2</th>\n",
       "      <td>0</td>\n",
       "      <td>2</td>\n",
       "    </tr>\n",
       "    <tr>\n",
       "      <th>3</th>\n",
       "      <td>0</td>\n",
       "      <td>3</td>\n",
       "    </tr>\n",
       "    <tr>\n",
       "      <th>4</th>\n",
       "      <td>0</td>\n",
       "      <td>3</td>\n",
       "    </tr>\n",
       "  </tbody>\n",
       "</table>\n",
       "</div>"
      ],
      "text/plain": [
       "  CHAS RAD\n",
       "0    0   1\n",
       "1    0   2\n",
       "2    0   2\n",
       "3    0   3\n",
       "4    0   3"
      ]
     },
     "execution_count": 7,
     "metadata": {},
     "output_type": "execute_result"
    }
   ],
   "source": [
    "# view of first five saamples of the categorical columns\n",
    "X.loc[:, categorical_columns].head()"
   ]
  },
  {
   "cell_type": "markdown",
   "metadata": {},
   "source": [
    "## Get meta features with MetaFeaturesRegression"
   ]
  },
  {
   "cell_type": "markdown",
   "metadata": {},
   "source": [
    "First, import the `MetaFeaturesRegression` class from PyMeta."
   ]
  },
  {
   "cell_type": "code",
   "execution_count": 8,
   "metadata": {
    "ExecuteTime": {
     "end_time": "2019-09-11T00:43:12.305611Z",
     "start_time": "2019-09-11T00:43:11.277173Z"
    }
   },
   "outputs": [],
   "source": [
    "import sys\n",
    "from os.path import join, abspath\n",
    "from pathlib import Path\n",
    "\n",
    "# get project dir\n",
    "project_dir = Path(abspath('')).resolve().parent\n",
    "# add it to path\n",
    "sys.path.append(join(project_dir))\n",
    "\n",
    "# get MetaFeaturesRegression\n",
    "from pymeta.meta_learning import MetaFeaturesRegression"
   ]
  },
  {
   "cell_type": "markdown",
   "metadata": {},
   "source": [
    "Then, instanciate the object."
   ]
  },
  {
   "cell_type": "code",
   "execution_count": 9,
   "metadata": {
    "ExecuteTime": {
     "end_time": "2019-09-11T00:43:12.317451Z",
     "start_time": "2019-09-11T00:43:12.312130Z"
    }
   },
   "outputs": [],
   "source": [
    "mfr = MetaFeaturesRegression(\n",
    "        dataset_name='Boston',\n",
    "        random_state=42,\n",
    "        n_jobs=3,\n",
    "        categorical_mask=categorical_columns        \n",
    ")"
   ]
  },
  {
   "cell_type": "markdown",
   "metadata": {},
   "source": [
    "Fit the meta features for Boston dataset."
   ]
  },
  {
   "cell_type": "code",
   "execution_count": 10,
   "metadata": {
    "ExecuteTime": {
     "end_time": "2019-09-11T00:43:16.411224Z",
     "start_time": "2019-09-11T00:43:12.322106Z"
    }
   },
   "outputs": [
    {
     "data": {
      "text/plain": [
       "MetaFeaturesRegression(coeficient_of_variation_target=0.40776152837415536,\n",
       "            collective_feature_efficiency=0.8932806324110671,\n",
       "            dataset='Boston', error_of_nn_regressor=3.2978260869565217,\n",
       "            example_features_ratio=38.92307692307692,\n",
       "            individual_feature_efficiency=0.17391304347826086,\n",
       "            input_distribution=0.7683558091314391,\n",
       "            max_feature_correlation_target=0.8529141394922163,\n",
       "            max_kurtosis_numerical_features=37.13050912952209,\n",
       "            max_mean_numerical_features=0.8985678340323596,\n",
       "            max_skewness_numerical_features=5.223148798243857,\n",
       "            max_std_numerical_features=0.3216357176621353,\n",
       "            mean_absolute_residuos=3.3357555472569778,\n",
       "            mean_feature_correlation=0.493447984615287,\n",
       "            mean_feature_correlation_target=0.5383475150530329,\n",
       "            mean_kurtosis_numerical_features=4.324372369472598,\n",
       "            mean_mean_numerical_features=0.41640480866218943,\n",
       "            mean_skewness_numerical_features=0.6521174618624846,\n",
       "            mean_squared_residuos=23.43005593076799,\n",
       "            mean_std_numerical_features=0.2195475121371034,\n",
       "            min_kurtosis_numerical_features=-1.23353960114952,\n",
       "            min_mean_numerical_features=0.04054409826462902,\n",
       "            min_skewness_numerical_features=-2.8903737121414506,\n",
       "            min_std_numerical_features=0.09667929309708508,\n",
       "            n_of_examples=506, n_of_features=13,\n",
       "            nonlinearity_of_linear_regressor=3.064764896785592,\n",
       "            nonlinearity_of_nn_regressor=2.3200560044352496,\n",
       "            outliers_on_target=1, output_distribution=3.1023762376237625,\n",
       "            proportion_of_attributes_outliers=0.6363636363636364,\n",
       "            proportion_of_binary_features=0.07692307692307693,\n",
       "            proportion_of_categorical=0.15384615384615385,\n",
       "            proportion_of_correlated_features=2.4545454545454546,\n",
       "            proportion_of_correlated_features_target=0.7272727272727273,\n",
       "            proportion_of_features_with_na=0.0,\n",
       "            proportion_of_outliers_target=0.07905138339920949,\n",
       "            r2_with_binarized_categorical=0.7385708659517001,\n",
       "            r2_without_categorical=0.722457011176115,\n",
       "            stationarity_of_target=0)"
      ]
     },
     "execution_count": 10,
     "metadata": {},
     "output_type": "execute_result"
    }
   ],
   "source": [
    "mfr.fit(X, y)"
   ]
  },
  {
   "cell_type": "code",
   "execution_count": 11,
   "metadata": {
    "ExecuteTime": {
     "end_time": "2019-09-11T00:43:16.439771Z",
     "start_time": "2019-09-11T00:43:16.414169Z"
    }
   },
   "outputs": [
    {
     "data": {
      "text/html": [
       "<div>\n",
       "<style scoped>\n",
       "    .dataframe tbody tr th:only-of-type {\n",
       "        vertical-align: middle;\n",
       "    }\n",
       "\n",
       "    .dataframe tbody tr th {\n",
       "        vertical-align: top;\n",
       "    }\n",
       "\n",
       "    .dataframe thead th {\n",
       "        text-align: right;\n",
       "    }\n",
       "</style>\n",
       "<table border=\"1\" class=\"dataframe\">\n",
       "  <thead>\n",
       "    <tr style=\"text-align: right;\">\n",
       "      <th></th>\n",
       "      <th>0</th>\n",
       "    </tr>\n",
       "  </thead>\n",
       "  <tbody>\n",
       "    <tr>\n",
       "      <th>dataset</th>\n",
       "      <td>Boston</td>\n",
       "    </tr>\n",
       "    <tr>\n",
       "      <th>n_of_examples</th>\n",
       "      <td>506</td>\n",
       "    </tr>\n",
       "    <tr>\n",
       "      <th>n_of_features</th>\n",
       "      <td>13</td>\n",
       "    </tr>\n",
       "    <tr>\n",
       "      <th>proportion_of_categorical</th>\n",
       "      <td>0.153846</td>\n",
       "    </tr>\n",
       "    <tr>\n",
       "      <th>example_features_ratio</th>\n",
       "      <td>38.9231</td>\n",
       "    </tr>\n",
       "    <tr>\n",
       "      <th>proportion_of_attributes_outliers</th>\n",
       "      <td>0.636364</td>\n",
       "    </tr>\n",
       "    <tr>\n",
       "      <th>coeficient_of_variation_target</th>\n",
       "      <td>0.407762</td>\n",
       "    </tr>\n",
       "    <tr>\n",
       "      <th>outliers_on_target</th>\n",
       "      <td>1</td>\n",
       "    </tr>\n",
       "    <tr>\n",
       "      <th>stationarity_of_target</th>\n",
       "      <td>0</td>\n",
       "    </tr>\n",
       "    <tr>\n",
       "      <th>r2_without_categorical</th>\n",
       "      <td>0.722457</td>\n",
       "    </tr>\n",
       "    <tr>\n",
       "      <th>r2_with_binarized_categorical</th>\n",
       "      <td>0.738571</td>\n",
       "    </tr>\n",
       "    <tr>\n",
       "      <th>mean_feature_correlation</th>\n",
       "      <td>0.493448</td>\n",
       "    </tr>\n",
       "    <tr>\n",
       "      <th>mean_feature_correlation_target</th>\n",
       "      <td>0.538348</td>\n",
       "    </tr>\n",
       "    <tr>\n",
       "      <th>proportion_of_outliers_target</th>\n",
       "      <td>0.0790514</td>\n",
       "    </tr>\n",
       "    <tr>\n",
       "      <th>proportion_of_binary_features</th>\n",
       "      <td>0.0769231</td>\n",
       "    </tr>\n",
       "    <tr>\n",
       "      <th>min_kurtosis_numerical_features</th>\n",
       "      <td>-1.23354</td>\n",
       "    </tr>\n",
       "    <tr>\n",
       "      <th>max_kurtosis_numerical_features</th>\n",
       "      <td>37.1305</td>\n",
       "    </tr>\n",
       "    <tr>\n",
       "      <th>mean_kurtosis_numerical_features</th>\n",
       "      <td>4.32437</td>\n",
       "    </tr>\n",
       "    <tr>\n",
       "      <th>min_skewness_numerical_features</th>\n",
       "      <td>-2.89037</td>\n",
       "    </tr>\n",
       "    <tr>\n",
       "      <th>max_skewness_numerical_features</th>\n",
       "      <td>5.22315</td>\n",
       "    </tr>\n",
       "    <tr>\n",
       "      <th>mean_skewness_numerical_features</th>\n",
       "      <td>0.652117</td>\n",
       "    </tr>\n",
       "    <tr>\n",
       "      <th>min_mean_numerical_features</th>\n",
       "      <td>0.0405441</td>\n",
       "    </tr>\n",
       "    <tr>\n",
       "      <th>max_mean_numerical_features</th>\n",
       "      <td>0.898568</td>\n",
       "    </tr>\n",
       "    <tr>\n",
       "      <th>mean_mean_numerical_features</th>\n",
       "      <td>0.416405</td>\n",
       "    </tr>\n",
       "    <tr>\n",
       "      <th>min_std_numerical_features</th>\n",
       "      <td>0.0966793</td>\n",
       "    </tr>\n",
       "    <tr>\n",
       "      <th>max_std_numerical_features</th>\n",
       "      <td>0.321636</td>\n",
       "    </tr>\n",
       "    <tr>\n",
       "      <th>mean_std_numerical_features</th>\n",
       "      <td>0.219548</td>\n",
       "    </tr>\n",
       "    <tr>\n",
       "      <th>proportion_of_features_with_na</th>\n",
       "      <td>0</td>\n",
       "    </tr>\n",
       "    <tr>\n",
       "      <th>proportion_of_correlated_features_target</th>\n",
       "      <td>0.727273</td>\n",
       "    </tr>\n",
       "    <tr>\n",
       "      <th>proportion_of_correlated_features</th>\n",
       "      <td>2.45455</td>\n",
       "    </tr>\n",
       "    <tr>\n",
       "      <th>max_feature_correlation_target</th>\n",
       "      <td>0.852914</td>\n",
       "    </tr>\n",
       "    <tr>\n",
       "      <th>individual_feature_efficiency</th>\n",
       "      <td>0.173913</td>\n",
       "    </tr>\n",
       "    <tr>\n",
       "      <th>collective_feature_efficiency</th>\n",
       "      <td>0.893281</td>\n",
       "    </tr>\n",
       "    <tr>\n",
       "      <th>output_distribution</th>\n",
       "      <td>3.10238</td>\n",
       "    </tr>\n",
       "    <tr>\n",
       "      <th>input_distribution</th>\n",
       "      <td>0.768356</td>\n",
       "    </tr>\n",
       "    <tr>\n",
       "      <th>error_of_nn_regressor</th>\n",
       "      <td>3.29783</td>\n",
       "    </tr>\n",
       "    <tr>\n",
       "      <th>nonlinearity_of_nn_regressor</th>\n",
       "      <td>2.32006</td>\n",
       "    </tr>\n",
       "    <tr>\n",
       "      <th>mean_absolute_residuos</th>\n",
       "      <td>3.33576</td>\n",
       "    </tr>\n",
       "    <tr>\n",
       "      <th>mean_squared_residuos</th>\n",
       "      <td>23.4301</td>\n",
       "    </tr>\n",
       "    <tr>\n",
       "      <th>nonlinearity_of_linear_regressor</th>\n",
       "      <td>3.06476</td>\n",
       "    </tr>\n",
       "  </tbody>\n",
       "</table>\n",
       "</div>"
      ],
      "text/plain": [
       "                                                  0\n",
       "dataset                                      Boston\n",
       "n_of_examples                                   506\n",
       "n_of_features                                    13\n",
       "proportion_of_categorical                  0.153846\n",
       "example_features_ratio                      38.9231\n",
       "proportion_of_attributes_outliers          0.636364\n",
       "coeficient_of_variation_target             0.407762\n",
       "outliers_on_target                                1\n",
       "stationarity_of_target                            0\n",
       "r2_without_categorical                     0.722457\n",
       "r2_with_binarized_categorical              0.738571\n",
       "mean_feature_correlation                   0.493448\n",
       "mean_feature_correlation_target            0.538348\n",
       "proportion_of_outliers_target             0.0790514\n",
       "proportion_of_binary_features             0.0769231\n",
       "min_kurtosis_numerical_features            -1.23354\n",
       "max_kurtosis_numerical_features             37.1305\n",
       "mean_kurtosis_numerical_features            4.32437\n",
       "min_skewness_numerical_features            -2.89037\n",
       "max_skewness_numerical_features             5.22315\n",
       "mean_skewness_numerical_features           0.652117\n",
       "min_mean_numerical_features               0.0405441\n",
       "max_mean_numerical_features                0.898568\n",
       "mean_mean_numerical_features               0.416405\n",
       "min_std_numerical_features                0.0966793\n",
       "max_std_numerical_features                 0.321636\n",
       "mean_std_numerical_features                0.219548\n",
       "proportion_of_features_with_na                    0\n",
       "proportion_of_correlated_features_target   0.727273\n",
       "proportion_of_correlated_features           2.45455\n",
       "max_feature_correlation_target             0.852914\n",
       "individual_feature_efficiency              0.173913\n",
       "collective_feature_efficiency              0.893281\n",
       "output_distribution                         3.10238\n",
       "input_distribution                         0.768356\n",
       "error_of_nn_regressor                       3.29783\n",
       "nonlinearity_of_nn_regressor                2.32006\n",
       "mean_absolute_residuos                      3.33576\n",
       "mean_squared_residuos                       23.4301\n",
       "nonlinearity_of_linear_regressor            3.06476"
      ]
     },
     "execution_count": 11,
     "metadata": {},
     "output_type": "execute_result"
    }
   ],
   "source": [
    "# get metafeatures as pandas.DataFrame\n",
    "mfr.qualities()"
   ]
  }
 ],
 "metadata": {
  "kernelspec": {
   "display_name": "Python 3",
   "language": "python",
   "name": "python3"
  },
  "toc": {
   "base_numbering": 1,
   "nav_menu": {},
   "number_sections": true,
   "sideBar": true,
   "skip_h1_title": false,
   "title_cell": "Table of Contents",
   "title_sidebar": "Contents",
   "toc_cell": false,
   "toc_position": {},
   "toc_section_display": true,
   "toc_window_display": false
  },
  "varInspector": {
   "cols": {
    "lenName": 16,
    "lenType": 16,
    "lenVar": 40
   },
   "kernels_config": {
    "python": {
     "delete_cmd_postfix": "",
     "delete_cmd_prefix": "del ",
     "library": "var_list.py",
     "varRefreshCmd": "print(var_dic_list())"
    },
    "r": {
     "delete_cmd_postfix": ") ",
     "delete_cmd_prefix": "rm(",
     "library": "var_list.r",
     "varRefreshCmd": "cat(var_dic_list()) "
    }
   },
   "types_to_exclude": [
    "module",
    "function",
    "builtin_function_or_method",
    "instance",
    "_Feature"
   ],
   "window_display": false
  }
 },
 "nbformat": 4,
 "nbformat_minor": 2
}
